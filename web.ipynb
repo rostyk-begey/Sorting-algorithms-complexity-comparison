{
 "cells": [
  {
   "cell_type": "code",
   "execution_count": 1,
   "metadata": {
    "pycharm": {
     "is_executing": false,
     "name": "#%%\n"
    }
   },
   "outputs": [],
   "source": [
    "from ipywidgets import interact, widgets\n",
    "from algorithms import BubbleSort, SelectionSort, InsertionSort, QuickSort, GnomeSort\n",
    "from factories import CrossfadeArrayFactory, RandomArrayFactory, ReversedArrayFactory\n",
    "from services import AlgorithmsComparer, PlotDrawer\n",
    "\n",
    "algorithms = widgets.SelectMultiple(\n",
    "    options=[\n",
    "        BubbleSort(),\n",
    "        SelectionSort(),\n",
    "        InsertionSort(),\n",
    "        QuickSort(),\n",
    "        GnomeSort(),\n",
    "    ],\n",
    "    description='Algorithms',\n",
    "    disabled=False\n",
    ")\n",
    "factory = widgets.Select(\n",
    "    options=[\n",
    "        ('Random', RandomArrayFactory()),\n",
    "        ('Reversed', ReversedArrayFactory()),\n",
    "        ('Crossfade', CrossfadeArrayFactory()),\n",
    "    ],\n",
    "    description='Array types',\n",
    "    disabled=False\n",
    ")\n",
    "widgets.HBox([algorithms, factory])\n",
    "\n",
    "start = widgets.IntText(\n",
    "    value=10,\n",
    "    step=10,\n",
    "    min=10,\n",
    "    description='Start',\n",
    "    disabled=False\n",
    ")\n",
    "stop = widgets.IntText(\n",
    "    value=100,\n",
    "    step=10,\n",
    "    min=20,\n",
    "    description='Stop',\n",
    "    disabled=False\n",
    ")\n",
    "widgets.HBox([start, stop])\n",
    "@interact(algorithms=algorithms, factory=factory, start=start, stop=stop)\n",
    "def main(algorithms, factory, start, stop):\n",
    "    comparer = AlgorithmsComparer(algorithms, factory, (start, stop, 10))\n",
    "    drawer = PlotDrawer(comparer)\n",
    "    drawer.draw()"
   ]
  }
 ],
 "metadata": {
  "kernelspec": {
   "display_name": "Python 3",
   "language": "python",
   "name": "python3"
  },
  "language_info": {
   "codemirror_mode": {
    "name": "ipython",
    "version": 3
   },
   "file_extension": ".py",
   "mimetype": "text/x-python",
   "name": "python",
   "nbconvert_exporter": "python",
   "pygments_lexer": "ipython3",
   "version": "3.7.6"
  },
  "pycharm": {
   "stem_cell": {
    "cell_type": "raw",
    "source": [],
    "metadata": {
     "collapsed": false
    }
   }
  }
 },
 "nbformat": 4,
 "nbformat_minor": 1
}